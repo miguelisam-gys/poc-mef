{
 "cells": [
  {
   "cell_type": "code",
   "execution_count": 1,
   "id": "0919b864",
   "metadata": {},
   "outputs": [],
   "source": [
    "import pandas as pd\n",
    "import sqlite3"
   ]
  },
  {
   "cell_type": "code",
   "execution_count": 3,
   "id": "7c826346",
   "metadata": {},
   "outputs": [
    {
     "name": "stdout",
     "output_type": "stream",
     "text": [
      "Collecting pyarrow\n",
      "  Downloading pyarrow-20.0.0-cp310-cp310-manylinux_2_28_x86_64.whl (42.3 MB)\n",
      "\u001b[2K     \u001b[90m━━━━━━━━━━━━━━━━━━━━━━━━━━━━━━━━━━━━━━━━\u001b[0m \u001b[32m42.3/42.3 MB\u001b[0m \u001b[31m34.9 MB/s\u001b[0m eta \u001b[36m0:00:00\u001b[0m00:01\u001b[0m00:01\u001b[0m\n",
      "\u001b[?25hInstalling collected packages: pyarrow\n",
      "Successfully installed pyarrow-20.0.0\n",
      "Note: you may need to restart the kernel to use updated packages.\n"
     ]
    }
   ],
   "source": [
    "pip install pyarrow"
   ]
  },
  {
   "cell_type": "code",
   "execution_count": 2,
   "id": "37430e4c",
   "metadata": {},
   "outputs": [],
   "source": [
    "# Cargar archivo parquet\n",
    "df = pd.read_parquet(\"data/total_inversiones.parquet\")  # ejemplo: \"data/ventas.parquet\"\n",
    "\n",
    "# Crear conexión a SQLite\n",
    "conn = sqlite3.connect(\"data/total_inversiones.db\")  # ejemplo: \"database/contoso-sales.db\"\n",
    "\n",
    "# Escribir DataFrame en la base de datos SQLite (crea la tabla si no existe)\n",
    "df.to_sql(\"total_inversiones\", conn, if_exists=\"replace\", index=False)\n",
    "\n",
    "# Cerrar conexión\n",
    "conn.close()"
   ]
  }
 ],
 "metadata": {
  "kernelspec": {
   "display_name": ".venv",
   "language": "python",
   "name": "python3"
  },
  "language_info": {
   "codemirror_mode": {
    "name": "ipython",
    "version": 3
   },
   "file_extension": ".py",
   "mimetype": "text/x-python",
   "name": "python",
   "nbconvert_exporter": "python",
   "pygments_lexer": "ipython3",
   "version": "3.10.12"
  }
 },
 "nbformat": 4,
 "nbformat_minor": 5
}
